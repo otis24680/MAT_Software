{
 "cells": [
  {
   "cell_type": "markdown",
   "metadata": {},
   "source": [
    "# 1. Knihovny a moduly pro matematické výpočty"
   ]
  },
  {
   "cell_type": "markdown",
   "metadata": {},
   "source": [
    "### Zadání:"
   ]
  },
  {
   "cell_type": "markdown",
   "metadata": {},
   "source": [
    "V tomto kurzu jste se učili s některými vybranými knihovnami. Některé sloužily pro rychlé vektorové operace, jako numpy, některé mají naprogramovány symbolické manipulace, které lze převést na numerické reprezentace (sympy), některé mají v sobě funkce pro numerickou integraci (scipy). Některé slouží i pro rychlé základní operace s čísly (numba).\n",
    "\n",
    "Vaším úkolem je změřit potřebný čas pro vyřešení nějakého problému (např.: provést skalární součin, vypočítat určitý integrál) pomocí standardního pythonu a pomocí specializované knihovny. Toto měření proveďte alespoň pro 5 různých úloh (ne pouze jiná čísla, ale úplně jiné téma) a minimálně porovnejte rychlost jednoho modulu se standardním pythonem. Ideálně proveďte porovnání ještě s dalším modulem a snažte se, ať je kód ve standardním pythonu napsán efektivně."
   ]
  },
  {
   "cell_type": "markdown",
   "metadata": {},
   "source": [
    "#### 1.1 Skalární součin pomocí numpy"
   ]
  },
  {
   "cell_type": "code",
   "execution_count": 49,
   "metadata": {},
   "outputs": [
    {
     "name": "stdout",
     "output_type": "stream",
     "text": [
      "Čas Python: 2.19597s\n",
      "Čas NumPy: 0.01394s\n"
     ]
    }
   ],
   "source": [
    "import numpy as np\n",
    "import timeit as ti\n",
    "\n",
    "velikost = 1234567\n",
    "vektor1 = np.random.rand(velikost) #vytvořím dva náhodné vektory\n",
    "vektor2 = np.random.rand(velikost)\n",
    "\n",
    "def skal_python(v1, v2):            #vytvořím funkci pro skalární součin v Pythonu\n",
    "    součet = 0\n",
    "    for i in range(len(v1)):\n",
    "        součet += v1[i] * v2[i]     #sečtení součinů prvků\n",
    "    return součet\n",
    "\n",
    "def skal_np(v1, v2):                #samozřejmě i funkci pro skalární součin pomocí NumPy\n",
    "    return np.dot(v1, v2)\n",
    "\n",
    "čas_python = ti.timeit(lambda: skal_python(vektor1, vektor2), number=10)    #měření času pro obě funkce\n",
    "čas_numpy = ti.timeit(lambda: skal_np(vektor1, vektor2), number=10)\n",
    "\n",
    "print(f\"Čas Python: {čas_python:.5f}s\")\n",
    "print(f\"Čas NumPy: {čas_numpy:.5f}s\")\n"
   ]
  },
  {
   "cell_type": "markdown",
   "metadata": {},
   "source": [
    "Z outputu je jasně vidět, že **NumPy** bude mnohem rychlejší než obyčejný Python. V měření je poznat, že *čím větší vektor, tím větší rozdíl.*"
   ]
  },
  {
   "cell_type": "markdown",
   "metadata": {},
   "source": [
    "#### 1.2. Faktoriál pomocí SciPy"
   ]
  },
  {
   "cell_type": "code",
   "execution_count": null,
   "metadata": {},
   "outputs": [
    {
     "name": "stdout",
     "output_type": "stream",
     "text": [
      "Čas cyklu pro 800! --> 0.00091s\n",
      "Čas rekurze pro 800! --> 0.00191s\n",
      "Čas SciPy pro 800! --> 0.00026s\n"
     ]
    }
   ],
   "source": [
    "import scipy as sc\n",
    "import timeit as ti\n",
    "\n",
    "def faktorial_s_rekurzi():\n",
    "    cislo = 800 #číslo, pro které chceme vypočítat faktoriál\n",
    "\n",
    "    def cyklus(n):        #vytvořím funkci pro výpočet faktoriálu v pythonu\n",
    "        vysledek = 1\n",
    "        for i in range(2, n + 1):   \n",
    "            vysledek *= i           \n",
    "        return vysledek\n",
    "\n",
    "    def rekurze(n):       #dále rekurzivní funkci pro výpočet faktoriálu v pythonu\n",
    "        if n == 0 or n == 1:\n",
    "            return 1\n",
    "        return n * rekurze(n - 1)\n",
    "\n",
    "    def scipy(n):         #nakonec funkci pro výpočet faktoriálu pomocí SciPy\n",
    "        return sc.special.factorial(n, exact=True)\n",
    "\n",
    "\n",
    "    cas_cyklus = ti.timeit(lambda: cyklus(cislo), number=10) #funkci zavoláme 10x a změříme čas\n",
    "    cas_rekurze = ti.timeit(lambda: rekurze(cislo), number=10)\n",
    "    cas_scipy = ti.timeit(lambda: scipy(cislo), number=10)\n",
    "\n",
    "\n",
    "    print(f\"Čas cyklu pro 800! --> {cas_cyklus:.5f}s\")\n",
    "    print(f\"Čas rekurze pro 800! --> {cas_rekurze:.5f}s\")\n",
    "    print(f\"Čas SciPy pro 800! --> {cas_scipy:.5f}s\")\n",
    "\n",
    "faktorial_s_rekurzi()"
   ]
  },
  {
   "cell_type": "markdown",
   "metadata": {},
   "source": [
    "Zde vidíme, že NumPy a SciPy jsou mnohem rychlejší než obyčejné Python funkce. NumPy je asi 10x rychlejší a SciPy je až 100x rychlejší. \n",
    "\n",
    "*Rekurze má ale omezený velice omezený počet čísel, ze kterých můžeme faktoriál udělat. Pojďme si to tedy vyzkoušet bez rekurze s vyššími čísly*"
   ]
  },
  {
   "cell_type": "code",
   "execution_count": 54,
   "metadata": {},
   "outputs": [
    {
     "name": "stdout",
     "output_type": "stream",
     "text": [
      "Čas cyklu pro 30 000! --> 1.42999s\n",
      "Čas SciPy pro 30 000! --> 0.15199s\n"
     ]
    }
   ],
   "source": [
    "import scipy as sc\n",
    "import timeit as ti\n",
    "\n",
    "def faktorial_bez_rekurze():\n",
    "    cislo = 30000\n",
    "\n",
    "    def cyklus(n):\n",
    "        vysledek = 1\n",
    "        for i in range(2, n + 1):\n",
    "            vysledek *= i\n",
    "        return vysledek\n",
    "\n",
    "    def scipy(n):\n",
    "        return sc.special.factorial(n, exact=True)\n",
    "\n",
    "    cas_cyklus = ti.timeit(lambda: cyklus(cislo), number=10)\n",
    "    cas_scipy = ti.timeit(lambda: scipy(cislo), number=10)\n",
    "\n",
    "    print(f\"Čas cyklu pro 30 000! --> {cas_cyklus:.5f}s\")\n",
    "    print(f\"Čas SciPy pro 30 000! --> {cas_scipy:.5f}s\")\n",
    "\n",
    "faktorial_bez_rekurze()\n"
   ]
  },
  {
   "cell_type": "markdown",
   "metadata": {},
   "source": [
    "Zde je krásně vidět rozdíl rychlostí mezi cyklem a metodou SciPy."
   ]
  },
  {
   "cell_type": "markdown",
   "metadata": {},
   "source": [
    "#### 1.3. Derivace pomocí SymPy"
   ]
  }
 ],
 "metadata": {
  "kernelspec": {
   "display_name": "Python 3",
   "language": "python",
   "name": "python3"
  },
  "language_info": {
   "codemirror_mode": {
    "name": "ipython",
    "version": 3
   },
   "file_extension": ".py",
   "mimetype": "text/x-python",
   "name": "python",
   "nbconvert_exporter": "python",
   "pygments_lexer": "ipython3",
   "version": "3.12.3"
  }
 },
 "nbformat": 4,
 "nbformat_minor": 2
}
