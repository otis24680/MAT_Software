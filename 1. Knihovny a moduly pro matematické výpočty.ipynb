{
 "cells": [
  {
   "cell_type": "markdown",
   "metadata": {},
   "source": [
    "# 1. Knihovny a moduly pro matematické výpočty"
   ]
  },
  {
   "cell_type": "markdown",
   "metadata": {},
   "source": [
    "### Zadání:"
   ]
  },
  {
   "cell_type": "markdown",
   "metadata": {},
   "source": [
    "V tomto kurzu jste se učili s některými vybranými knihovnami. Některé sloužily pro rychlé vektorové operace, jako numpy, některé mají naprogramovány symbolické manipulace, které lze převést na numerické reprezentace (sympy), některé mají v sobě funkce pro numerickou integraci (scipy). Některé slouží i pro rychlé základní operace s čísly (numba).\n",
    "\n",
    "Vaším úkolem je změřit potřebný čas pro vyřešení nějakého problému (např.: provést skalární součin, vypočítat určitý integrál) pomocí standardního pythonu a pomocí specializované knihovny. Toto měření proveďte alespoň pro 5 různých úloh (ne pouze jiná čísla, ale úplně jiné téma) a minimálně porovnejte rychlost jednoho modulu se standardním pythonem. Ideálně proveďte porovnání ještě s dalším modulem a snažte se, ať je kód ve standardním pythonu napsán efektivně."
   ]
  },
  {
   "cell_type": "markdown",
   "metadata": {},
   "source": [
    "#### 1.1 Skalární součin pomocí numpy"
   ]
  },
  {
   "cell_type": "code",
   "execution_count": null,
   "metadata": {},
   "outputs": [
    {
     "name": "stdout",
     "output_type": "stream",
     "text": [
      "Čas Python: 3.08850 s\n",
      "Čas NumPy: 0.01613 s\n"
     ]
    }
   ],
   "source": [
    "import numpy as np\n",
    "import timeit as ti\n",
    "\n",
    "velikost = 1234567\n",
    "vektor1 = np.random.rand(velikost)\n",
    "vektor2 = np.random.rand(velikost)\n",
    "\n",
    "def skal_python(v1, v2):\n",
    "    součet = 0\n",
    "    for i in range(len(v1)):\n",
    "        součet += v1[i] * v2[i]\n",
    "    return součet\n",
    "\n",
    "def skal_np(v1, v2):\n",
    "    return np.dot(v1, v2)\n",
    "\n",
    "čas_python = ti.timeit(lambda: skal_python(vektor1, vektor2), number=10)\n",
    "čas_numpy = ti.timeit(lambda: skal_np(vektor1, vektor2), number=10)\n",
    "\n",
    "print(f\"Čas Python: {čas_python:.5f}s\")\n",
    "print(f\"Čas NumPy: {čas_numpy:.5f}s\")"
   ]
  }
 ],
 "metadata": {
  "kernelspec": {
   "display_name": "Python 3",
   "language": "python",
   "name": "python3"
  },
  "language_info": {
   "codemirror_mode": {
    "name": "ipython",
    "version": 3
   },
   "file_extension": ".py",
   "mimetype": "text/x-python",
   "name": "python",
   "nbconvert_exporter": "python",
   "pygments_lexer": "ipython3",
   "version": "3.12.3"
  }
 },
 "nbformat": 4,
 "nbformat_minor": 2
}
