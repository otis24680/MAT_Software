{
 "cells": [
  {
   "cell_type": "markdown",
   "id": "8905cc26",
   "metadata": {
    "vscode": {
     "languageId": "plaintext"
    }
   },
   "source": [
    "# Matematický software - Úloha 2: Ekologický model Lotka-Volterra"
   ]
  },
  {
   "cell_type": "markdown",
   "id": "54f0361a",
   "metadata": {},
   "source": [
    "Model popisuje interakci dvou druhů:\n",
    "  - Kořist (např. králíci) – roste přirozeně, ale je lovena\n",
    "  - Predátor (např. lišky) – přežívá díky kořisti, jinak vymírá"
   ]
  },
  {
   "cell_type": "code",
   "execution_count": 2,
   "id": "9bb635bc",
   "metadata": {},
   "outputs": [
    {
     "ename": "ModuleNotFoundError",
     "evalue": "No module named 'numpy'",
     "output_type": "error",
     "traceback": [
      "\u001b[1;31m---------------------------------------------------------------------------\u001b[0m",
      "\u001b[1;31mModuleNotFoundError\u001b[0m                       Traceback (most recent call last)",
      "Cell \u001b[1;32mIn[2], line 1\u001b[0m\n\u001b[1;32m----> 1\u001b[0m \u001b[38;5;28;01mimport\u001b[39;00m \u001b[38;5;21;01mnumpy\u001b[39;00m \u001b[38;5;28;01mas\u001b[39;00m \u001b[38;5;21;01mnp\u001b[39;00m\n\u001b[0;32m      2\u001b[0m \u001b[38;5;28;01mimport\u001b[39;00m \u001b[38;5;21;01mmatplotlib\u001b[39;00m\u001b[38;5;21;01m.\u001b[39;00m\u001b[38;5;21;01mpyplot\u001b[39;00m \u001b[38;5;28;01mas\u001b[39;00m \u001b[38;5;21;01mplt\u001b[39;00m\n\u001b[0;32m      3\u001b[0m \u001b[38;5;28;01mfrom\u001b[39;00m \u001b[38;5;21;01mscipy\u001b[39;00m\u001b[38;5;21;01m.\u001b[39;00m\u001b[38;5;21;01mintegrate\u001b[39;00m \u001b[38;5;28;01mimport\u001b[39;00m odeint\n",
      "\u001b[1;31mModuleNotFoundError\u001b[0m: No module named 'numpy'"
     ]
    }
   ],
   "source": [
    "import numpy as np\n",
    "import matplotlib.pyplot as plt\n",
    "from scipy.integrate import odeint\n",
    "\n",
    "# Parametry modelu\n",
    "alpha = 0.1   # růst kořisti\n",
    "beta = 0.02   # predátor loví kořist\n",
    "gamma = 0.3   # úmrtnost predátora\n",
    "delta = 0.01  # růst predátora díky kořisti\n",
    "\n",
    "# Počáteční stavy: [kořist, predátor]\n",
    "x0 = 40   # králíci\n",
    "y0 = 9    # lišky\n",
    "initial_state = [x0, y0]\n",
    "\n",
    "# Časová osa\n",
    "t = np.linspace(0, 200, 1000)\n",
    "\n",
    "# Definice rovnic\n",
    "def lotka_volterra(state, t, alpha, beta, gamma, delta):\n",
    "    x, y = state\n",
    "    dxdt = alpha * x - beta * x * y\n",
    "    dydt = delta * x * y - gamma * y\n",
    "    return [dxdt, dydt]\n",
    "\n",
    "# Výpočet\n",
    "solution = odeint(lotka_volterra, initial_state, t, args=(alpha, beta, gamma, delta))\n",
    "x, y = solution.T\n",
    "\n",
    "# Graf vývoje v čase\n",
    "plt.figure(figsize=(10,6))\n",
    "plt.plot(t, x, label='Kořist (x)', color='green')\n",
    "plt.plot(t, y, label='Predátor (y)', color='red')\n",
    "plt.xlabel('Čas')\n",
    "plt.ylabel('Populace')\n",
    "plt.title('Model Lotka–Volterra – vývoj populací')\n",
    "plt.legend()\n",
    "plt.grid(True)\n",
    "plt.show()\n"
   ]
  }
 ],
 "metadata": {
  "kernelspec": {
   "display_name": "Python 3",
   "language": "python",
   "name": "python3"
  },
  "language_info": {
   "codemirror_mode": {
    "name": "ipython",
    "version": 3
   },
   "file_extension": ".py",
   "mimetype": "text/x-python",
   "name": "python",
   "nbconvert_exporter": "python",
   "pygments_lexer": "ipython3",
   "version": "3.11.9"
  }
 },
 "nbformat": 4,
 "nbformat_minor": 5
}
